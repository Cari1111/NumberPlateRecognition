{
 "cells": [
  {
   "cell_type": "code",
   "execution_count": 27,
   "metadata": {},
   "outputs": [],
   "source": [
    "# torch with cuda\n",
    "# %pip install torch torchvision torchaudio --index-url https://download.pytorch.org/whl/cu121"
   ]
  },
  {
   "cell_type": "code",
   "execution_count": null,
   "metadata": {},
   "outputs": [],
   "source": [
    "%reload_ext autoreload\n",
    "%autoreload 2\n",
    "%matplotlib inline\n",
    "\n",
    "from ultralytics import YOLO\n",
    "import torch\n",
    "import os\n",
    "\n",
    "# Load a model\n",
    "# model = YOLO(\"best.onnx\")\n",
    "yolo_model_s = YOLO(\"yolo11s.pt\")\n",
    "yolo_model_m = YOLO(\"yolo11m.pt\")\n",
    "# path = os.path.join(os.path.abspath(\".\"),\"License Plate Recognition.v6i.yolov11.zip\")\n",
    "\n",
    "# # Train the model\n",
    "# train_results = model.train(\n",
    "#     data=path,  # path to dataset YAML\n",
    "#     epochs=100,  # number of training epochs\n",
    "#     # workers=100,\n",
    "#     # patience=100,\n",
    "#     imgsz=640,  # training image size\n",
    "#     device=\"cuda\" if torch.cuda.is_available() else \"cpu\",  # device to run on, i.e. device=0 or device=0,1,2,3 or device=cpu\n",
    "# )\n",
    "\n",
    "# # Evaluate model performance on the validation set\n",
    "# metrics = model.val()\n",
    "\n",
    "# # Export the model to ONNX format\n",
    "# path = model.export(format=\"onnx\")  # return path to exported model"
   ]
  },
  {
   "cell_type": "code",
   "execution_count": 36,
   "metadata": {},
   "outputs": [],
   "source": [
    "%reload_ext autoreload\n",
    "%autoreload 2\n",
    "%matplotlib inline\n",
    "\n",
    "import os\n",
    "from matplotlib import pyplot as plt\n",
    "from safe_video import ObjectDetection, filter_results, merge_results_list, apply_censorship\n",
    "rec = ObjectDetection()\n"
   ]
  },
  {
   "cell_type": "code",
   "execution_count": null,
   "metadata": {},
   "outputs": [],
   "source": [
    "img_size = 10\n",
    "image = plt.imread(\"example.jpg\")\n",
    "results = rec.process_image(image, [\"car\", \"License_Plate\"])\n",
    "merged_results = merge_results_list(results)\n",
    "\n",
    "\n",
    "censored = apply_censorship(image, results[1], action=\"beam\",color=(120,21,132) , overlayImage= plt.imread(\"example.jpg\"))\n",
    "# Simon fragen: results doch lieber als ganzes übergeben, und dann nach dem  vom user angegebenen objekt filtern\n",
    "\n",
    "# to plot on blured image we can override the orig_img\n",
    "merged_results.orig_img = censored\n",
    "plt.figure(figsize=(img_size,img_size))\n",
    "plt.imshow(merged_results.plot())\n",
    "plt.show()\n",
    "\n",
    "\n",
    "# filters only for cars, after the the analysis\n",
    "merged_results = filter_results(merged_results, \"License_Plate\")\n",
    "plt.figure(figsize=(img_size,img_size))\n",
    "plt.imshow(merged_results.plot())\n",
    "plt.show()"
   ]
  },
  {
   "cell_type": "code",
   "execution_count": null,
   "metadata": {},
   "outputs": [],
   "source": [
    "video = r\"video1.mp4\"\n",
    "rec.process_video(video, [['car','bus'],'License_Plate'], debug=True, verbose=False)\n",
    "\n"
   ]
  }
 ],
 "metadata": {
  "kernelspec": {
   "display_name": "NumberPlateRecognition",
   "language": "python",
   "name": "python3"
  },
  "language_info": {
   "codemirror_mode": {
    "name": "ipython",
    "version": 3
   },
   "file_extension": ".py",
   "mimetype": "text/x-python",
   "name": "python",
   "nbconvert_exporter": "python",
   "pygments_lexer": "ipython3",
   "version": "3.11.10"
  }
 },
 "nbformat": 4,
 "nbformat_minor": 2
}
