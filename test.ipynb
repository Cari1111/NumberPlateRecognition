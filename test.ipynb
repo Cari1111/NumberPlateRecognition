{
 "cells": [
  {
   "cell_type": "code",
   "execution_count": null,
   "metadata": {},
   "outputs": [],
   "source": [
    "# torch with cuda\n",
    "# %pip install torch torchvision torchaudio --index-url https://download.pytorch.org/whl/cu121"
   ]
  },
  {
   "cell_type": "code",
   "execution_count": null,
   "metadata": {},
   "outputs": [],
   "source": [
    "%reload_ext autoreload\n",
    "%autoreload 2\n",
    "%matplotlib inline"
   ]
  },
  {
   "cell_type": "code",
   "execution_count": null,
   "metadata": {},
   "outputs": [],
   "source": [
    "from ultralytics import YOLO\n",
    "import torch\n",
    "import os\n",
    "\n",
    "# Load a model\n",
    "# model = YOLO(\"best.onnx\")\n",
    "model = YOLO(\"yolo11n.pt\")\n",
    "\n",
    "path = os.path.join(os.path.abspath(\".\"),\"License Plate Recognition.v6i.yolov11.zip\")\n",
    "\n",
    "# Train the model\n",
    "train_results = model.train(\n",
    "    data=path,  # path to dataset YAML\n",
    "    epochs=100,  # number of training epochs\n",
    "    # workers=100,\n",
    "    # patience=20,\n",
    "    imgsz=640,  # training image size\n",
    "    device=\"cuda\" if torch.cuda.is_available() else \"cpu\",  # device to run on, i.e. device=0 or device=0,1,2,3 or device=cpu\n",
    ")\n",
    "\n",
    "# Evaluate model performance on the validation set\n",
    "metrics = model.val()\n",
    "\n",
    "# Export the model to ONNX format\n",
    "path = model.export(format=\"onnx\")  # return path to exported model"
   ]
  },
  {
   "cell_type": "code",
   "execution_count": null,
   "metadata": {},
   "outputs": [],
   "source": [
    "import cv2\n",
    "from matplotlib import pyplot as plt\n",
    "from plate_recognition import NumberPlateRecognition\n",
    "\n",
    "rec = NumberPlateRecognition()\n",
    "\n",
    "def run(img):\n",
    "    rec.analyze(img)\n",
    "\n",
    "# Perform object detection on an image\n",
    "img = cv2.imread(\"example.jpg\")\n",
    "run(img)\n",
    "img = cv2.flip(img, 0)\n",
    "run(img)\n",
    "img = cv2.flip(img, 1)\n",
    "run(img)\n",
    "img = cv2.flip(img, 0)\n",
    "run(img)"
   ]
  },
  {
   "cell_type": "code",
   "execution_count": 3,
   "metadata": {},
   "outputs": [
    {
     "name": "stdout",
     "output_type": "stream",
     "text": [
      "Loading c:\\Ordner\\Uni\\Master\\24-Winter\\Bildverarbeitung\\NumberPlateRecognition\\models\\first10ktrain\\weights\\best.onnx for ONNX Runtime inference...\n",
      "Preferring ONNX Runtime TensorrtExecutionProvider\n",
      "*************** EP Error ***************\n",
      "EP Error D:\\a\\_work\\1\\s\\onnxruntime\\python\\onnxruntime_pybind_state.cc:507 onnxruntime::python::RegisterTensorRTPluginsAsCustomOps Please install TensorRT libraries as mentioned in the GPU requirements page, make sure they're in the PATH or LD_LIBRARY_PATH, and that your GPU is supported.\n",
      " when using ['TensorrtExecutionProvider', 'CUDAExecutionProvider', 'CPUExecutionProvider']\n",
      "Falling back to ['CUDAExecutionProvider', 'CPUExecutionProvider'] and retrying.\n",
      "****************************************\n",
      "\n",
      "0: 640x640 4 License_Plates, 10.0ms\n",
      "Speed: 79.0ms preprocess, 10.0ms inference, 155.0ms postprocess per image at shape (1, 3, 640, 640)\n",
      "boxes: [[     431.77      437.72      476.63      453.35]\n",
      " [     626.27      432.12      674.95      446.11]\n",
      " [        129      441.88      168.72      454.66]\n",
      " [     301.74      563.35      362.12      580.69]]\n",
      "conf: [    0.61744     0.59421     0.57782     0.46563]\n",
      "cls: [          0           0           0           0]\n",
      "clslgd: {0: 'License_Plate'}\n",
      "\n"
     ]
    }
   ],
   "source": [
    "from safe_video import NumberPlateRecognition\n",
    "import cv2\n",
    "\n",
    "rec = NumberPlateRecognition()\n",
    "img = cv2.imread(\"example.jpg\")\n",
    "img = img[:, :, ::-1]\n",
    "analyzed_img = rec.analyze(img)\n",
    "result = rec.blur_image(img, analyzed_img.boxes)\n",
    "\n",
    "plt.imshow(img)\n",
    "plt.show()\n",
    "plt.imshow(result)\n",
    "plt.show()\n",
    "# original = Image.fromarray(img, 'RGB')\n",
    "# result2 = Image.fromarray(result, 'RGB')"
   ]
  }
 ],
 "metadata": {
  "kernelspec": {
   "display_name": "NumberPlateRecognition",
   "language": "python",
   "name": "python3"
  },
  "language_info": {
   "codemirror_mode": {
    "name": "ipython",
    "version": 3
   },
   "file_extension": ".py",
   "mimetype": "text/x-python",
   "name": "python",
   "nbconvert_exporter": "python",
   "pygments_lexer": "ipython3",
   "version": "3.11.10"
  }
 },
 "nbformat": 4,
 "nbformat_minor": 2
}
