{
 "cells": [
  {
   "cell_type": "code",
   "execution_count": null,
   "metadata": {},
   "outputs": [],
   "source": [
    "# torch with cuda\n",
    "# %pip install torch torchvision torchaudio --index-url https://download.pytorch.org/whl/cu121"
   ]
  },
  {
   "cell_type": "code",
   "execution_count": 1,
   "metadata": {},
   "outputs": [],
   "source": [
    "%reload_ext autoreload\n",
    "%autoreload 2\n",
    "%matplotlib inline\n",
    "\n",
    "from ultralytics import YOLO\n",
    "import torch\n",
    "import os\n",
    "\n",
    "# Load a model\n",
    "# model = YOLO(\"best.onnx\")\n",
    "yolo_model_s = YOLO(\"yolo11s.pt\")\n",
    "yolo_model_m = YOLO(\"yolo11m.pt\")\n",
    "# path = os.path.join(os.path.abspath(\".\"),\"License Plate Recognition.v6i.yolov11.zip\")\n",
    "\n",
    "# # Train the model\n",
    "# train_results = model.train(\n",
    "#     data=path,  # path to dataset YAML\n",
    "#     epochs=100,  # number of training epochs\n",
    "#     # workers=100,\n",
    "#     # patience=100,\n",
    "#     imgsz=640,  # training image size\n",
    "#     device=\"cuda\" if torch.cuda.is_available() else \"cpu\",  # device to run on, i.e. device=0 or device=0,1,2,3 or device=cpu\n",
    "# )\n",
    "\n",
    "# # Evaluate model performance on the validation set\n",
    "# metrics = model.val()\n",
    "\n",
    "# # Export the model to ONNX format\n",
    "# path = model.export(format=\"onnx\")  # return path to exported model"
   ]
  },
  {
   "cell_type": "code",
   "execution_count": 1,
   "metadata": {},
   "outputs": [],
   "source": [
    "%reload_ext autoreload\n",
    "%autoreload 2\n",
    "%matplotlib inline\n",
    "\n",
    "from ultralytics import YOLO\n",
    "from ultralytics.engine.results import Boxes, Results\n",
    "from ultralytics.data.loaders import LoadStreams\n",
    "import os\n",
    "import cv2\n",
    "from matplotlib import pyplot as plt\n",
    "from safe_video import ObjectDetection, filter_results\n",
    "import numpy as np\n",
    "import torch\n",
    "yolo_model_path = os.path.join(os.path.abspath(\".\"), \"models\", \"yolo11s.pt\")\n",
    "yolo_model = YOLO(yolo_model_path, task='detect')\n",
    "plate_model_path = os.path.join(os.path.abspath(\".\"),\"models\",\"first10ktrain\",\"weights\",\"best.pt\")\n",
    "plate_model = YOLO(plate_model_path, task='detect')\n",
    "rec = ObjectDetection()\n"
   ]
  },
  {
   "cell_type": "code",
   "execution_count": null,
   "metadata": {},
   "outputs": [],
   "source": [
    "\n",
    "\n",
    "img_size = 10\n",
    "image = cv2.imread(\"example.jpg\")\n",
    "image = image[:, :, ::-1]\n",
    "rec.process_image(image, \"car\", \"License_Plate\")\n",
    "# rec.analyze(image, [\"traffic light\", \"car\", \"License_Plate\", \"barbie\"])\n",
    "blured = rec.apply_blur_to_image(image, rec.result, \"License_Plate\")\n",
    "# to plot on blured image we can override the orig_img\n",
    "rec.result.orig_img = blured\n",
    "plt.figure(figsize=(img_size,img_size))\n",
    "plt.imshow(rec.result.plot())\n",
    "plt.show()\n",
    "\n",
    "\n",
    "# filters only for cars, after the the analysis\n",
    "rec.result = filter_results(rec.result, \"car\")\n",
    "plt.figure(figsize=(img_size,img_size))\n",
    "plt.imshow(rec.result.plot())\n",
    "plt.show()"
   ]
  },
  {
   "cell_type": "code",
   "execution_count": null,
   "metadata": {},
   "outputs": [],
   "source": [
    "image = cv2.imread(\"example.jpg\")\n",
    "image = image[:, :, ::-1]\n",
    "\n",
    "test = rec.process_image(image, [\"traffic light\", \"car\"], [\"License_Plate\"])\n",
    "blur = rec.apply_blur_to_image(image, rec.result, \"License_Plate\")\n",
    "# to plot on blured image we can override the orig_img\n",
    "rec.result.orig_img = blur\n",
    "plt.imshow(rec.result.plot())\t\n",
    "plt.show()\n"
   ]
  },
  {
   "cell_type": "code",
   "execution_count": null,
   "metadata": {},
   "outputs": [],
   "source": [
    "video = r\"video1.mp4\"\n",
    "rec.process_video(video, primary_classes= [\"car\"], secondary_classes=[\"License_Plate\"], debug=True)"
   ]
  }
 ],
 "metadata": {
  "kernelspec": {
   "display_name": "NumberPlateRecognition",
   "language": "python",
   "name": "python3"
  },
  "language_info": {
   "codemirror_mode": {
    "name": "ipython",
    "version": 3
   },
   "file_extension": ".py",
   "mimetype": "text/x-python",
   "name": "python",
   "nbconvert_exporter": "python",
   "pygments_lexer": "ipython3",
   "version": "3.11.10"
  }
 },
 "nbformat": 4,
 "nbformat_minor": 2
}
