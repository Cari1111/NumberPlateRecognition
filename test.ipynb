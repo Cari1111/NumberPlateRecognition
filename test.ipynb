{
 "cells": [
  {
   "cell_type": "code",
   "execution_count": 27,
   "metadata": {},
   "outputs": [],
   "source": [
    "# torch with cuda\n",
    "# %pip install torch torchvision torchaudio --index-url https://download.pytorch.org/whl/cu121"
   ]
  },
  {
   "cell_type": "code",
   "execution_count": null,
   "metadata": {},
   "outputs": [],
   "source": [
    "# train_results = model.train(\n",
    "#     data=path,  # Path to dataset YAML\n",
    "#     epochs=200,  # More epochs for better performance\n",
    "#     batch=64,  # High batch size to fully utilize GPU memory\n",
    "#     imgsz=1280,  # Large image size for detailed detection\n",
    "#     project=\"models\",\n",
    "#     name=\"OptimizedRTX4080Model\",\n",
    "#     optimizer=\"AdamW\",  # AdamW for better performance with weight decay\n",
    "#     lr0=0.002,  # Slightly higher initial learning rate\n",
    "#     lrf=0.01,  # Final learning rate as a fraction of the initial rate\n",
    "#     weight_decay=5e-4,  # Adjusted for regularization\n",
    "#     momentum=0.95,  # Higher momentum for faster convergence\n",
    "#     warmup_epochs=5,  # Gradual learning rate warmup\n",
    "#     warmup_momentum=0.8,  # Initial warmup momentum\n",
    "#     warmup_bias_lr=0.1,  # Learning rate for biases during warmup\n",
    "#     augment=True,  # Enable data augmentation\n",
    "#     close_mosaic=10,  # Disable mosaic augmentation in the last 10 epochs\n",
    "#     patience=30,  # Early stopping after 30 epochs without improvement\n",
    "#     device=\"cuda\" if torch.cuda.is_available() else \"cpu\",  # Use GPU\n",
    "#     workers=8,  # Number of data loading workers\n",
    "#     save=True,  # Save the model checkpoints\n",
    "#     save_period=10,  # Save checkpoints every 10 epochs\n",
    "#     cache=True,  # Cache dataset in memory for faster loading\n",
    "#     pretrained=True,  # Use pretrained weights for transfer learning\n",
    "#     single_cls=False,  # Train for multiple classes\n",
    "#     val=True,  # Validate during training\n",
    "#     plots=True,  # Generate and save plots\n",
    "#     verbose=True,  # Detailed logging\n",
    "#     seed=42,  # Ensure reproducibility\n",
    "# )"
   ]
  },
  {
   "cell_type": "code",
   "execution_count": null,
   "metadata": {},
   "outputs": [],
   "source": [
    "# %reload_ext autoreload\n",
    "# %autoreload 2\n",
    "# %matplotlib inline\n",
    "\n",
    "from ultralytics import YOLO\n",
    "import torch\n",
    "import os\n",
    "\n",
    "# Load a model\n",
    "model = YOLO(\"yolo11n.pt\")\n",
    "path = r\"D:\\uni\\Semester_5\\Praktikum\\License Plate Recognition.v7i.yolov11\\data.yaml\"\n",
    "print(\"start\")\n",
    "# Train the model https://docs.ultralytics.com/modes/train/#train-settings\n",
    "train_results = model.train(\n",
    "    data=path,  # Path to dataset YAML\n",
    "    epochs=200,  # More epochs for better performance\n",
    "    batch=64,  # High batch size to fully utilize GPU memory\n",
    "    imgsz=1280,  # Large image size for detailed detection\n",
    "    project=\"models\",\n",
    "    name=\"OptimizedRTX4080Model\",\n",
    "    optimizer=\"AdamW\",  # AdamW for better performance with weight decay\n",
    "    lr0=0.002,  # Slightly higher initial learning rate\n",
    "    lrf=0.01,  # Final learning rate as a fraction of the initial rate\n",
    "    weight_decay=5e-4,  # Adjusted for regularization\n",
    "    momentum=0.95,  # Higher momentum for faster convergence\n",
    "    warmup_epochs=5,  # Gradual learning rate warmup\n",
    "    warmup_momentum=0.8,  # Initial warmup momentum\n",
    "    warmup_bias_lr=0.1,  # Learning rate for biases during warmup\n",
    "    augment=True,  # Enable data augmentation\n",
    "    close_mosaic=10,  # Disable mosaic augmentation in the last 10 epochs\n",
    "    patience=30,  # Early stopping after 30 epochs without improvement\n",
    "    device=\"cuda\" if torch.cuda.is_available() else \"cpu\",  # Use GPU\n",
    "    workers=8,  # Number of data loading workers\n",
    "    save=True,  # Save the model checkpoints\n",
    "    save_period=10,  # Save checkpoints every 10 epochs\n",
    "    cache=True,  # Cache dataset in memory for faster loading\n",
    "    pretrained=True,  # Use pretrained weights for transfer learning\n",
    "    single_cls=False,  # Train for multiple classes\n",
    "    val=True,  # Validate during training\n",
    "    plots=True,  # Generate and save plots\n",
    "    verbose=True,  # Detailed logging\n",
    "    seed=42,  # Ensure reproducibility\n",
    ")\n",
    "\n",
    "# Evaluate model performance on the validation set\n",
    "metrics = model.val()\n",
    "\n",
    "# Export the model to ONNX format\n",
    "path = model.export(format=\"onnx\")  # return path to exported model"
   ]
  },
  {
   "cell_type": "code",
   "execution_count": 10,
   "metadata": {},
   "outputs": [],
   "source": [
    "%reload_ext autoreload\n",
    "%autoreload 2\n",
    "%matplotlib inline\n",
    "\n",
    "from matplotlib import pyplot as plt\n",
    "from safe_video import ObjectDetection, filter_results, merge_results_list\n",
    "rec = ObjectDetection()"
   ]
  },
  {
   "cell_type": "code",
   "execution_count": null,
   "metadata": {},
   "outputs": [],
   "source": [
    "img_size = 10\n",
    "image = plt.imread(\"example.jpg\")\n",
    "results = rec.process_image(image, [\"License_Plate\"])\n",
    "merged_results = merge_results_list(results)\n",
    "# rec.analyze(image, [\"traffic light\", \"car\", \"License_Plate\", \"barbie\"])\n",
    "# blured = rec.apply_blur_to_image(image, results[1])\n",
    "# to plot on blured image we can override the orig_img\n",
    "# merged_results.orig_img = blured\n",
    "plt.figure(figsize=(img_size,img_size))\n",
    "plt.imshow(merged_results.plot())\n",
    "plt.show()\n",
    "\n",
    "\n",
    "# filters only for cars, after the the analysis\n",
    "merged_results = filter_results(merged_results, \"License_Plate\")\n",
    "plt.figure(figsize=(img_size,img_size))\n",
    "plt.imshow(merged_results.plot())\n",
    "plt.show()"
   ]
  },
  {
   "cell_type": "code",
   "execution_count": 7,
   "metadata": {},
   "outputs": [],
   "source": [
    "video = r\"video1.mp4\"\n",
    "rec.process_video(video, [['car','bus'],'License_Plate'], debug=True, verbose=False)"
   ]
  }
 ],
 "metadata": {
  "kernelspec": {
   "display_name": "NumberPlateRecognition",
   "language": "python",
   "name": "python3"
  },
  "language_info": {
   "codemirror_mode": {
    "name": "ipython",
    "version": 3
   },
   "file_extension": ".py",
   "mimetype": "text/x-python",
   "name": "python",
   "nbconvert_exporter": "python",
   "pygments_lexer": "ipython3",
   "version": "3.11.10"
  }
 },
 "nbformat": 4,
 "nbformat_minor": 2
}
