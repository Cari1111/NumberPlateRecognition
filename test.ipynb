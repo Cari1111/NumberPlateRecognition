{
 "cells": [
  {
   "cell_type": "code",
   "execution_count": null,
   "metadata": {},
   "outputs": [],
   "source": [
    "# torch with cuda\n",
    "# %pip install torch torchvision torchaudio --index-url https://download.pytorch.org/whl/cu121"
   ]
  },
  {
   "cell_type": "code",
   "execution_count": null,
   "metadata": {},
   "outputs": [],
   "source": [
    "%reload_ext autoreload\n",
    "%autoreload 2\n",
    "%matplotlib inline\n",
    "\n",
    "from ultralytics import YOLO\n",
    "import torch\n",
    "import os\n",
    "\n",
    "# Load a model\n",
    "model = YOLO(\"best.onnx\")\n",
    "# Change path to train dataset\n",
    "path = os.path.join(os.path.abspath(\".\"),\"License Plate Recognition.v6i.yolov11.zip\")\n",
    "\n",
    "# Train the model\n",
    "train_results = model.train(\n",
    "    data=path,  # path to dataset YAML\n",
    "    epochs=100,  # number of training epochs\n",
    "    imgsz=640,  # training image size\n",
    "    device=\"cuda\" if torch.cuda.is_available() else \"cpu\",  # device to run on, i.e. device=0 or device=0,1,2,3 or device=cpu\n",
    ")\n",
    "\n",
    "# Evaluate model performance on the validation set\n",
    "metrics = model.val()\n",
    "\n",
    "# Export the model to ONNX format\n",
    "path = model.export(format=\"onnx\")  # return path to exported model"
   ]
  },
  {
   "cell_type": "code",
   "execution_count": null,
   "metadata": {},
   "outputs": [],
   "source": [
    "%reload_ext autoreload\n",
    "%autoreload 2\n",
    "%matplotlib inline\n",
    "\n",
    "import os\n",
    "from matplotlib import pyplot as plt\n",
    "from safe_video import ObjectDetection, filter_results, merge_results_list, apply_censorship, Censor\n",
    "rec = ObjectDetection()\n",
    "\n",
    "image = plt.imread(\"example.jpg\")\n",
    "licenseplates = rec.process_image(image, [\"License_Plate\"])\n",
    "merged_licenseplates = merge_results_list(licenseplates)\n",
    "\n",
    "filtered_licenseplates = filter_results(merged_licenseplates, \"License_Plate\", 0.3)\n",
    "censored = apply_censorship(image, filtered_licenseplates, action=Censor.overlay, color=(120,21,132), overlayImage=image)\n",
    "\n",
    "# to plot on censored image we can override the orig_img\n",
    "filtered_licenseplates.orig_img = censored\n",
    "\n",
    "# filters only for cars, after the the analysis\n",
    "img_size = 7\n",
    "plt.figure(figsize=(img_size,img_size))\n",
    "plt.imshow(filtered_licenseplates.plot())\n",
    "plt.show()\n",
    "# plt.imsave(\"t.jpg\", merged_licenseplates.plot())"
   ]
  },
  {
   "cell_type": "code",
   "execution_count": null,
   "metadata": {},
   "outputs": [],
   "source": [
    "rec.get_names_with_classes()"
   ]
  },
  {
   "cell_type": "code",
   "execution_count": null,
   "metadata": {},
   "outputs": [],
   "source": [
    "print(rec.get_classes())"
   ]
  },
  {
   "cell_type": "markdown",
   "metadata": {},
   "source": [
    "### Adding models"
   ]
  },
  {
   "cell_type": "code",
   "execution_count": null,
   "metadata": {},
   "outputs": [],
   "source": [
    "print(len(rec.get_classes()))\n",
    "rec.add_model(os.path.join(os.path.abspath(\".\"), \"models\", \"face_recognition\", \"weights\", \"best.pt\"))\n",
    "print(len(rec.get_classes()))"
   ]
  },
  {
   "cell_type": "code",
   "execution_count": null,
   "metadata": {},
   "outputs": [],
   "source": [
    "image = plt.imread(\"face_test.jpg\")\n",
    "faces = rec.process_image(image, \"face\")[0]\n",
    "\n",
    "blur = apply_censorship(image, faces, overlayImage=plt.imread(\"example.jpg\"), action=Censor.overlay)\n",
    "faces.orig_img = blur\n",
    "plt.figure(figsize=(img_size,img_size))\n",
    "plt.imshow(faces.plot())\n",
    "plt.show()"
   ]
  },
  {
   "cell_type": "markdown",
   "metadata": {},
   "source": [
    "### Videos"
   ]
  },
  {
   "cell_type": "code",
   "execution_count": null,
   "metadata": {},
   "outputs": [],
   "source": [
    "%reload_ext autoreload\n",
    "%autoreload 2\n",
    "%matplotlib inline\n",
    "\n",
    "from safe_video import ObjectDetection, save_result_as_video\n",
    "rec = ObjectDetection()\n",
    "\n",
    "video = r\"video1.mp4\"\n",
    "res = rec.process_video(video, [['car', 'bus'], 'License_Plate'], debug=True, verbose=False)"
   ]
  },
  {
   "cell_type": "code",
   "execution_count": null,
   "metadata": {},
   "outputs": [],
   "source": [
    "# we can save the result now as a video and also apply censorship or filters. The sound is also copied to the output video\n",
    "save_result_as_video(res, \"output.mp4\", original_video_path=video, class_filter=\"License_Plate\", fps=30, censorship=Censor.blur, copy_audio=True)"
   ]
  }
 ],
 "metadata": {
  "kernelspec": {
   "display_name": "NumberPlateRecognition",
   "language": "python",
   "name": "python3"
  },
  "language_info": {
   "codemirror_mode": {
    "name": "ipython",
    "version": 3
   },
   "file_extension": ".py",
   "mimetype": "text/x-python",
   "name": "python",
   "nbconvert_exporter": "python",
   "pygments_lexer": "ipython3",
   "version": "3.11.10"
  }
 },
 "nbformat": 4,
 "nbformat_minor": 2
}
