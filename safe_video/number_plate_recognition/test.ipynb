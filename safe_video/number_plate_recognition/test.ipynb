{
 "cells": [
  {
   "cell_type": "code",
   "execution_count": null,
   "metadata": {},
   "outputs": [],
   "source": [
    "# torch with cuda\n",
    "# %pip install torch torchvision torchaudio --index-url https://download.pytorch.org/whl/cu121"
   ]
  },
  {
   "cell_type": "code",
   "execution_count": null,
   "metadata": {},
   "outputs": [],
   "source": [
    "%reload_ext autoreload\n",
    "%autoreload 2"
   ]
  },
  {
   "cell_type": "code",
   "execution_count": null,
   "metadata": {},
   "outputs": [],
   "source": [
    "from ultralytics import YOLO\n",
    "import torch\n",
    "import os\n",
    "\n",
    "# Load a model\n",
    "# model = YOLO(\"best.onnx\")\n",
    "model = YOLO(\"yolo11n.pt\")\n",
    "\n",
    "path = os.path.join(os.path.abspath(\".\"),\"License Plate Recognition.v6i.yolov11.zip\")\n",
    "\n",
    "# Train the model\n",
    "train_results = model.train(\n",
    "    data=path,  # path to dataset YAML\n",
    "    epochs=100,  # number of training epochs\n",
    "    # workers=100,\n",
    "    # patience=20,\n",
    "    imgsz=640,  # training image size\n",
    "    device=\"cuda\" if torch.cuda.is_available() else \"cpu\",  # device to run on, i.e. device=0 or device=0,1,2,3 or device=cpu\n",
    ")\n",
    "\n",
    "# Evaluate model performance on the validation set\n",
    "metrics = model.val()\n",
    "\n",
    "# Export the model to ONNX format\n",
    "path = model.export(format=\"onnx\")  # return path to exported model"
   ]
  },
  {
   "cell_type": "code",
   "execution_count": null,
   "metadata": {},
   "outputs": [],
   "source": [
    "import cv2\n",
    "from matplotlib import pyplot as plt\n",
    "\n",
    "def run(img):\n",
    "    results = model(img)\n",
    "    results[0].show()\n",
    "    print(results[0])\n",
    "\n",
    "# Perform object detection on an image\n",
    "img = cv2.imread(\"example.jpg\")\n",
    "run(img)\n",
    "# img = cv2.flip(img, 0)\n",
    "# run(img)\n",
    "# img = cv2.flip(img, 1)\n",
    "# run(img)\n",
    "# img = cv2.flip(img, 0)\n",
    "# run(img)"
   ]
  },
  {
   "cell_type": "code",
   "execution_count": null,
   "metadata": {},
   "outputs": [],
   "source": [
    "import cv2\n",
    "import os\n",
    "import numpy as np\n",
    "from matplotlib import pyplot as plt\n",
    "from ultralytics import YOLO\n",
    "\n",
    "model_path = os.path.join(os.path.abspath(\".\"),\"models\",\"first10ktrain\",\"weights\",\"best.onnx\")\n",
    "model = YOLO(model_path)\n",
    "\n",
    "def add_noise(bboxes, mean=0, std_dev=5):\n",
    "    noise = np.random.normal(mean, std_dev, bboxes.shape)\n",
    "    noisy_bboxes = bboxes + noise\n",
    "    return noisy_bboxes\n",
    "\n",
    "def extract_bboxes(results):\n",
    "    #bounding boxes can be extracted like that:\n",
    "    bboxes = results[0].boxes.xyxy.cpu().numpy()\n",
    "\n",
    "    #trying to add noise and add it on the picture (doesn't work yet)\n",
    "    noisy_bboxes = add_noise(bboxes)\n",
    "    results[0].boxes.xyxy = torch.tensor(noisy_bboxes, device=results[0].boxes.xyxy.device)\n",
    "\n",
    "    return results\n",
    "\n",
    "def run(img):\n",
    "    results = model(img)\n",
    "\n",
    "    #results = extract_bboxes(results)\n",
    "    results[0].show()\n",
    "    print(results[0])\n",
    "\n",
    "# Perform object detection on an image\n",
    "img = cv2.imread(\"example.jpg\")\n",
    "run(img)"
   ]
  }
 ],
 "metadata": {
  "kernelspec": {
   "display_name": "NumberPlateRecognition",
   "language": "python",
   "name": "python3"
  },
  "language_info": {
   "codemirror_mode": {
    "name": "ipython",
    "version": 3
   },
   "file_extension": ".py",
   "mimetype": "text/x-python",
   "name": "python",
   "nbconvert_exporter": "python",
   "pygments_lexer": "ipython3",
   "version": "3.11.10"
  }
 },
 "nbformat": 4,
 "nbformat_minor": 2
}
